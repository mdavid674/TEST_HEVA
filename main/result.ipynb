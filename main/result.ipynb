{
 "cells": [
  {
   "cell_type": "markdown",
   "metadata": {},
   "source": [
    "# Technical test results for HEVA company"
   ]
  },
  {
   "cell_type": "markdown",
   "metadata": {},
   "source": [
    "This notebook repeats the statement of the test. Under each activity you will find the code and the result produced.\n",
    "You will find all the requirements to run this notebook in the requirements.md file."
   ]
  },
  {
   "cell_type": "markdown",
   "metadata": {},
   "source": [
    "## Configuration"
   ]
  },
  {
   "cell_type": "markdown",
   "metadata": {},
   "source": [
    "### 1. Importing packages"
   ]
  },
  {
   "cell_type": "code",
   "execution_count": 1,
   "metadata": {},
   "outputs": [],
   "source": [
    "# Import necessary modules\n",
    "\n",
    "from pyspark.sql import SparkSession"
   ]
  },
  {
   "cell_type": "markdown",
   "metadata": {},
   "source": [
    "### 2. Settings"
   ]
  },
  {
   "cell_type": "code",
   "execution_count": 7,
   "metadata": {},
   "outputs": [],
   "source": [
    "# Definition of necessary parameters\n",
    "data_path = \"../sources/data/movies.sqlite\""
   ]
  },
  {
   "cell_type": "markdown",
   "metadata": {},
   "source": [
    "### 3. Reading data"
   ]
  },
  {
   "cell_type": "code",
   "execution_count": 9,
   "metadata": {},
   "outputs": [],
   "source": [
    "def read_data(data_path):\n",
    "    \"\"\" Configuring the Pyspark session with the jdbc package\n",
    "        to read the \"movies.sqlite\" file.\n",
    "\n",
    "    Args:\n",
    "        data_path (string): The sqlite data file path\n",
    "\n",
    "    Returns:\n",
    "        tuple: A tuple of 2 Pyspark Dataframes\n",
    "    \"\"\"\n",
    "\n",
    "    # Creation of the Spark session\n",
    "    spark = SparkSession.builder\\\n",
    "        .config(\n",
    "            'spark.jars.packages',\n",
    "            'org.xerial:sqlite-jdbc:3.34.0')\\\n",
    "        .getOrCreate()\n",
    "\n",
    "    # Reading the movies table\n",
    "    df_movies = spark.read.format('jdbc')\\\n",
    "        .options(\n",
    "            driver='org.sqlite.JDBC',\n",
    "            dbtable='movies',\n",
    "            url=f'jdbc:sqlite:{data_path}')\\\n",
    "        .load()\n",
    "\n",
    "    # Reading the ratings table\n",
    "    df_ratings = spark.read.format('jdbc')\\\n",
    "        .options(\n",
    "            driver='org.sqlite.JDBC',\n",
    "            dbtable='ratings',\n",
    "            url=f'jdbc:sqlite:{data_path}')\\\n",
    "        .load()\n",
    "\n",
    "    return df_movies, df_ratings\n",
    "\n",
    "\n",
    "df_movies, df_ratings = read_data(data_path)"
   ]
  },
  {
   "cell_type": "markdown",
   "metadata": {},
   "source": [
    "### 4. Data overview"
   ]
  },
  {
   "cell_type": "code",
   "execution_count": 11,
   "metadata": {},
   "outputs": [
    {
     "name": "stdout",
     "output_type": "stream",
     "text": [
      "Movies table\n",
      "+--------+--------------------+--------------------+\n",
      "|movie_id|               title|               genre|\n",
      "+--------+--------------------+--------------------+\n",
      "|       8|Edison Kinetoscop...|   Documentary|Short|\n",
      "|      10|La sortie des usi...|   Documentary|Short|\n",
      "|      12|The Arrival of a ...|   Documentary|Short|\n",
      "|      25|The Oxford and Ca...|                null|\n",
      "|      91|Le manoir du diab...|        Short|Horror|\n",
      "|     131|Une nuit terrible...| Short|Comedy|Horror|\n",
      "|     417|A Trip to the Moo...|Short|Action|Adve...|\n",
      "|     439|The Great Train R...|Short|Action|Crim...|\n",
      "|     443|Hiawatha, the Mes...|                null|\n",
      "|     628|The Adventures of...|        Action|Short|\n",
      "|     833|The Country Docto...|         Short|Drama|\n",
      "|    1223| Frankenstein (1910)| Short|Horror|Sci-Fi|\n",
      "|    1740|The Lonedale Oper...| Short|Drama|Romance|\n",
      "|    2101|    Cleopatra (1912)|       Drama|History|\n",
      "|    2130|    L'inferno (1911)|Adventure|Drama|F...|\n",
      "|    2354|Max et Jane veule...|Short|Comedy|Romance|\n",
      "|    2844|Fantômas - À l'om...|         Crime|Drama|\n",
      "|    3740|      Cabiria (1914)|Adventure|Drama|H...|\n",
      "|    3863|Dough and Dynamit...|        Comedy|Short|\n",
      "|    4099|His Majesty, the ...|Family|Fantasy|Ad...|\n",
      "+--------+--------------------+--------------------+\n",
      "only showing top 20 rows\n",
      "\n",
      "Ratings table\n",
      "+-------+--------+------+----------------+\n",
      "|user_id|movie_id|rating|rating_timestamp|\n",
      "+-------+--------+------+----------------+\n",
      "|      1|  114508|     8|      1381006850|\n",
      "|      2|  499549|     9|      1376753198|\n",
      "|      2| 1305591|     8|      1376742507|\n",
      "|      2| 1428538|     1|      1371307089|\n",
      "|      3|   75314|     1|      1595468524|\n",
      "|      3|  102926|     9|      1590148016|\n",
      "|      3|  114369|    10|      1597555347|\n",
      "|      3|  118715|     8|      1596006798|\n",
      "|      3|  120737|     8|      1599306720|\n",
      "|      3|  208092|     5|      1586466072|\n",
      "|      3|  358273|     9|      1579057827|\n",
      "|      3|  477348|     6|      1597289003|\n",
      "|      3|10039344|     5|      1578603053|\n",
      "|      3| 1051906|     6|      1589924916|\n",
      "|      3| 1568346|     6|      1597388722|\n",
      "|      3| 2278388|     8|      1597297732|\n",
      "|      3| 6199572|     3|      1589482483|\n",
      "|      3| 6723592|     8|      1599578941|\n",
      "|      3| 6751668|     9|      1578955697|\n",
      "|      3| 7131622|     8|      1579559244|\n",
      "+-------+--------+------+----------------+\n",
      "only showing top 20 rows\n",
      "\n"
     ]
    }
   ],
   "source": [
    "def preview_data(df_movies, df_ratings):\n",
    "    \"\"\"Showing top 20 rows\n",
    "\n",
    "    Args:\n",
    "        df_movies (Dataframe): Movies Dataframe\n",
    "        df_ratings (Dataframe): Ratings Dataframe\n",
    "    \"\"\"\n",
    "\n",
    "    # Overview of movies table data\n",
    "    print(\"Movies table\")\n",
    "    df_movies.show()\n",
    "\n",
    "    # Preview data from the ratings table\n",
    "    print(\"Ratings table\")\n",
    "    df_ratings.show()\n",
    "\n",
    "\n",
    "preview_data(df_movies, df_ratings)"
   ]
  },
  {
   "cell_type": "markdown",
   "metadata": {},
   "source": [
    "## Tasks\n",
    "\n",
    "### 1. Counts\n",
    "\n",
    "- 1.1 How many films are in the database?"
   ]
  },
  {
   "cell_type": "code",
   "execution_count": 13,
   "metadata": {},
   "outputs": [
    {
     "name": "stderr",
     "output_type": "stream",
     "text": [
      "[Stage 3:>                                                          (0 + 1) / 1]\r"
     ]
    },
    {
     "name": "stdout",
     "output_type": "stream",
     "text": [
      "There are 37947 movies in the database\n"
     ]
    },
    {
     "name": "stderr",
     "output_type": "stream",
     "text": [
      "                                                                                \r"
     ]
    }
   ],
   "source": [
    "def activity_1_1(df_movies):\n",
    "    \"\"\"Counting the number of distinct film titles\n",
    "\n",
    "    Args:\n",
    "        df_movies (Dataframe): Movies Dataframe\n",
    "\n",
    "    Return:\n",
    "        int: Number of movies\n",
    "    \"\"\"\n",
    "\n",
    "    return df_movies\\\n",
    "        .select(\"title\")\\\n",
    "        .distinct()\\\n",
    "        .count()\n",
    "\n",
    "\n",
    "result_1_1 = activity_1_1(df_movies)\n",
    "print(\"There are\", result_1_1, \"movies in the database\")"
   ]
  },
  {
   "cell_type": "markdown",
   "metadata": {},
   "source": [
    "- 1.2 How many different users are in the database?"
   ]
  },
  {
   "cell_type": "code",
   "execution_count": 15,
   "metadata": {},
   "outputs": [
    {
     "name": "stderr",
     "output_type": "stream",
     "text": [
      "[Stage 9:>                                                          (0 + 1) / 1]\r"
     ]
    },
    {
     "name": "stdout",
     "output_type": "stream",
     "text": [
      "There are 71707 user id in the database\n"
     ]
    },
    {
     "name": "stderr",
     "output_type": "stream",
     "text": [
      "                                                                                \r"
     ]
    }
   ],
   "source": [
    "def activity_1_2(df_ratings):\n",
    "    \"\"\"Counting the number of distinct user id\n",
    "\n",
    "    Args:\n",
    "        df_ratings (Dataframe): Ratings Dataframe\n",
    "\n",
    "    Return:\n",
    "        int: Number of user id\n",
    "    \"\"\"\n",
    "\n",
    "    return df_ratings\\\n",
    "        .select(\"user_id\")\\\n",
    "        .distinct()\\\n",
    "        .count()\n",
    "\n",
    "\n",
    "result_1_2 = activity_1_2(df_ratings)\n",
    "print(\"There are\", result_1_2, \"user id in the database\")"
   ]
  },
  {
   "cell_type": "markdown",
   "metadata": {},
   "source": [
    "- 1.3 What is the distribution of the notes provided?\n",
    "     **Bonus**: create a histogram."
   ]
  },
  {
   "cell_type": "code",
   "execution_count": null,
   "metadata": {},
   "outputs": [],
   "source": []
  },
  {
   "cell_type": "markdown",
   "metadata": {},
   "source": [
    "## Safe Notebook versioning"
   ]
  },
  {
   "cell_type": "code",
   "execution_count": 16,
   "metadata": {},
   "outputs": [
    {
     "name": "stdout",
     "output_type": "stream",
     "text": [
      "[NbConvertApp] Converting notebook result.ipynb to python\n",
      "[NbConvertApp] Writing 2995 bytes to result.py\n"
     ]
    }
   ],
   "source": [
    "!jupyter nbconvert result.ipynb --to=\"python\""
   ]
  }
 ],
 "metadata": {
  "kernelspec": {
   "display_name": "Python 3.10.4 ('test_heva')",
   "language": "python",
   "name": "python3"
  },
  "language_info": {
   "codemirror_mode": {
    "name": "ipython",
    "version": 3
   },
   "file_extension": ".py",
   "mimetype": "text/x-python",
   "name": "python",
   "nbconvert_exporter": "python",
   "pygments_lexer": "ipython3",
   "version": "3.10.4"
  },
  "orig_nbformat": 4,
  "vscode": {
   "interpreter": {
    "hash": "64a6df10e2c5214e0607b70b4fb1785e65c456952a5c675fa786aef034d7f982"
   }
  }
 },
 "nbformat": 4,
 "nbformat_minor": 2
}
